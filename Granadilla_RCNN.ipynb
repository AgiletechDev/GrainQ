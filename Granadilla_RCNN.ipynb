{
  "nbformat": 4,
  "nbformat_minor": 0,
  "metadata": {
    "accelerator": "GPU",
    "colab": {
      "provenance": [],
      "collapsed_sections": [],
      "include_colab_link": true
    },
    "kernelspec": {
      "display_name": "Python 3",
      "name": "python3"
    },
    "gpuClass": "standard"
  },
  "cells": [
    {
      "cell_type": "markdown",
      "metadata": {
        "id": "view-in-github",
        "colab_type": "text"
      },
      "source": [
        "<a href=\"https://colab.research.google.com/github/AgiletechDev/GrainQ/blob/main/Granadilla_RCNN.ipynb\" target=\"_parent\"><img src=\"https://colab.research.google.com/assets/colab-badge.svg\" alt=\"Open In Colab\"/></a>"
      ]
    },
    {
      "cell_type": "code",
      "source": [
        "import tensorflow as tf\n",
        "from tensorflow.keras.preprocessing.image import ImageDataGenerator\n",
        "import os\n",
        "import numpy as np\n",
        "import matplotlib.pyplot as plt\n",
        "\n",
        "#Descarga y extracción del set de datos"
      ],
      "metadata": {
        "id": "L6cKuCmLu3Pj"
      },
      "execution_count": 15,
      "outputs": []
    },
    {
      "cell_type": "code",
      "source": [
        "#from google.colab import drive\n",
        "#drive.mount('/content/drive')"
      ],
      "metadata": {
        "colab": {
          "base_uri": "https://localhost:8080/"
        },
        "id": "XLbM6fqbvFuL",
        "outputId": "585d00b8-b47a-444f-d9ba-d64766d50b7e"
      },
      "execution_count": 16,
      "outputs": [
        {
          "output_type": "stream",
          "name": "stdout",
          "text": [
            "Drive already mounted at /content/drive; to attempt to forcibly remount, call drive.mount(\"/content/drive\", force_remount=True).\n"
          ]
        }
      ]
    },
    {
      "cell_type": "code",
      "source": [
        "carpeta_base = '/content/drive/MyDrive/granadilla_cv/'\n",
        "carpeta_entrenamiento = os.path.join(carpeta_base, 'train')\n",
        "carpeta_validacion = os.path.join(carpeta_base, 'validation')"
      ],
      "metadata": {
        "id": "oJhP5QDEwKPH"
      },
      "execution_count": 17,
      "outputs": []
    },
    {
      "cell_type": "code",
      "source": [
        "carp_entren_calidad_1 = os.path.join(carpeta_entrenamiento, 'calidad_1')  # imagenes de calidad_1 para pruebas\n",
        "carpeta_entren_calidad_2 = os.path.join(carpeta_entrenamiento, 'calidad_2')  # imagenes de calidad_2 para pruebas\n",
        "carpeta_entren_extra = os.path.join(carpeta_entrenamiento, 'extra') # imagenes de extra para pruebas\n",
        "\n",
        "carpeta_val_calidad_1 = os.path.join(carpeta_validacion, 'calidad_1')  # imagenes de gatos para validacion\n",
        "carpeta_val_calidad_2 = os.path.join(carpeta_validacion, 'calidad_2')  # imagenes de perros para validacion\n",
        "carpeta_val_extra = os.path.join(carpeta_validacion, 'extra')  # imagenes de perros para validacion"
      ],
      "metadata": {
        "id": "vekESFR-vKpa"
      },
      "execution_count": 18,
      "outputs": []
    },
    {
      "cell_type": "code",
      "source": [
        "num_calidad_1_entren = len(os.listdir(carp_entren_calidad_1))\n",
        "num_calidad_2_entren = len(os.listdir(carpeta_entren_calidad_2))\n",
        "num_extra_entren = len(os.listdir(carpeta_entren_extra))\n",
        "\n",
        "num_calidad_1_val = len(os.listdir(carpeta_val_calidad_1))\n",
        "num_calidad_2_val = len(os.listdir(carpeta_val_calidad_2))\n",
        "num_extra_val = len(os.listdir(carpeta_val_extra))\n",
        "\n",
        "total_entrenamiento = num_calidad_1_entren + num_calidad_2_entren + num_extra_entren\n",
        "total_val = num_calidad_1_val + num_calidad_2_val + num_extra_val"
      ],
      "metadata": {
        "id": "eqM-B62Qx8i3"
      },
      "execution_count": 19,
      "outputs": []
    },
    {
      "cell_type": "code",
      "source": [
        "TAMANO_LOTE = 100\n",
        "TAMANO_IMG = 150"
      ],
      "metadata": {
        "id": "8FKHpnsQzfxg"
      },
      "execution_count": 20,
      "outputs": []
    },
    {
      "cell_type": "code",
      "source": [
        "#Aumento de datos (escala, rotacion, blabla)\n",
        "print(\"Realizando aumento de datos\")\n",
        "image_gen_entrenamiento = ImageDataGenerator(\n",
        "      rescale=1./255,\n",
        "      rotation_range=40,\n",
        "      width_shift_range=0.2,\n",
        "      height_shift_range=0.2,\n",
        "      shear_range=0.2,\n",
        "      zoom_range=0.2,\n",
        "      horizontal_flip=True,\n",
        "      fill_mode='nearest')"
      ],
      "metadata": {
        "colab": {
          "base_uri": "https://localhost:8080/"
        },
        "id": "iNoyP51WzwGB",
        "outputId": "8d9b8174-1320-4c7c-b53a-7e359e42ad9f"
      },
      "execution_count": 21,
      "outputs": [
        {
          "output_type": "stream",
          "name": "stdout",
          "text": [
            "Realizando aumento de datos\n"
          ]
        }
      ]
    },
    {
      "cell_type": "code",
      "source": [
        "#Generacion de datos de entrenamiento \n",
        "data_gen_entrenamiento = image_gen_entrenamiento.flow_from_directory(batch_size=TAMANO_LOTE,\n",
        "                                                     directory=carpeta_entrenamiento,\n",
        "                                                     shuffle=True,\n",
        "                                                     target_size=(TAMANO_IMG,TAMANO_IMG),\n",
        "                                                     class_mode='binary')\n",
        "\n",
        "#Generacion de datos de validacion\n",
        "image_gen_val = ImageDataGenerator(rescale=1./255)\n",
        "\n",
        "data_gen_validacion = image_gen_val.flow_from_directory(batch_size=TAMANO_LOTE,\n",
        "                                                 directory=carpeta_validacion,\n",
        "                                                 target_size=(TAMANO_IMG, TAMANO_IMG),\n",
        "                                                 class_mode='binary')"
      ],
      "metadata": {
        "colab": {
          "base_uri": "https://localhost:8080/"
        },
        "id": "hylNMn9Mzzg8",
        "outputId": "418b6b8a-0141-4cbb-82ae-821adf7a074c"
      },
      "execution_count": 22,
      "outputs": [
        {
          "output_type": "stream",
          "name": "stdout",
          "text": [
            "Found 600 images belonging to 3 classes.\n",
            "Found 150 images belonging to 3 classes.\n"
          ]
        }
      ]
    },
    {
      "cell_type": "code",
      "source": [
        "#Modelo!\n",
        "modelo = tf.keras.models.Sequential([\n",
        "    tf.keras.layers.Conv2D(32, (3,3), activation='relu', input_shape=(150, 150, 3)),\n",
        "    tf.keras.layers.MaxPooling2D(2, 2),\n",
        "\n",
        "    tf.keras.layers.Conv2D(64, (3,3), activation='relu'),\n",
        "    tf.keras.layers.MaxPooling2D(2,2),\n",
        "\n",
        "    tf.keras.layers.Conv2D(128, (3,3), activation='relu'),\n",
        "    tf.keras.layers.MaxPooling2D(2,2),\n",
        "\n",
        "    tf.keras.layers.Conv2D(128, (3,3), activation='relu'),\n",
        "    tf.keras.layers.MaxPooling2D(2,2),\n",
        "\n",
        "    tf.keras.layers.Dropout(0.5),\n",
        "    tf.keras.layers.Flatten(),\n",
        "    tf.keras.layers.Dense(512, activation='relu'),\n",
        "    tf.keras.layers.Dense(units=3, activation='softmax')\n",
        "])"
      ],
      "metadata": {
        "id": "MDiQZVjK0ASX"
      },
      "execution_count": 23,
      "outputs": []
    },
    {
      "cell_type": "code",
      "source": [
        "#Compilación\n",
        "modelo.compile(optimizer='adam',\n",
        "              loss=tf.keras.losses.SparseCategoricalCrossentropy(from_logits=True),\n",
        "              metrics=['accuracy'])"
      ],
      "metadata": {
        "id": "SSKUrw8x00y4"
      },
      "execution_count": 27,
      "outputs": []
    },
    {
      "cell_type": "code",
      "source": [
        "print(\"Entrenando modelo...\");\n",
        "epocas=100\n",
        "historial = modelo.fit(\n",
        "    data_gen_entrenamiento,\n",
        "    steps_per_epoch=int(np.ceil(total_entrenamiento / float(TAMANO_LOTE))),\n",
        "    epochs=epocas,\n",
        "    validation_data=data_gen_validacion,\n",
        "    validation_steps=int(np.ceil(total_val / float(TAMANO_LOTE)))\n",
        ")"
      ],
      "metadata": {
        "colab": {
          "base_uri": "https://localhost:8080/"
        },
        "id": "m-aoC_Nf05Bu",
        "outputId": "55ef7dd6-cd3e-471a-fed3-e25e2857f38a"
      },
      "execution_count": 28,
      "outputs": [
        {
          "output_type": "stream",
          "name": "stdout",
          "text": [
            "Entrenando modelo...\n",
            "Epoch 1/100\n",
            "6/6 [==============================] - 30s 5s/step - loss: 1.0866 - accuracy: 0.3533 - val_loss: 1.0594 - val_accuracy: 0.4533\n",
            "Epoch 2/100\n",
            "6/6 [==============================] - 33s 6s/step - loss: 1.0578 - accuracy: 0.4417 - val_loss: 1.0255 - val_accuracy: 0.3867\n",
            "Epoch 3/100\n",
            "6/6 [==============================] - 26s 4s/step - loss: 1.0227 - accuracy: 0.4650 - val_loss: 1.0534 - val_accuracy: 0.4000\n",
            "Epoch 4/100\n",
            "6/6 [==============================] - 25s 4s/step - loss: 0.9932 - accuracy: 0.4933 - val_loss: 0.9235 - val_accuracy: 0.4467\n",
            "Epoch 5/100\n",
            "6/6 [==============================] - 26s 4s/step - loss: 0.9768 - accuracy: 0.4917 - val_loss: 0.9547 - val_accuracy: 0.5267\n",
            "Epoch 6/100\n",
            "6/6 [==============================] - 25s 4s/step - loss: 0.9618 - accuracy: 0.4983 - val_loss: 1.1995 - val_accuracy: 0.3867\n",
            "Epoch 7/100\n",
            "6/6 [==============================] - 25s 4s/step - loss: 0.9608 - accuracy: 0.5267 - val_loss: 1.0332 - val_accuracy: 0.4800\n",
            "Epoch 8/100\n",
            "6/6 [==============================] - 25s 4s/step - loss: 0.9198 - accuracy: 0.5483 - val_loss: 1.0460 - val_accuracy: 0.4333\n",
            "Epoch 9/100\n",
            "6/6 [==============================] - 26s 5s/step - loss: 0.8915 - accuracy: 0.5817 - val_loss: 1.1604 - val_accuracy: 0.4467\n",
            "Epoch 10/100\n",
            "6/6 [==============================] - 25s 4s/step - loss: 0.8704 - accuracy: 0.6083 - val_loss: 0.9080 - val_accuracy: 0.6533\n",
            "Epoch 11/100\n",
            "6/6 [==============================] - 25s 4s/step - loss: 0.8655 - accuracy: 0.5683 - val_loss: 1.1592 - val_accuracy: 0.4400\n",
            "Epoch 12/100\n",
            "6/6 [==============================] - 25s 4s/step - loss: 0.7832 - accuracy: 0.6450 - val_loss: 1.2088 - val_accuracy: 0.4067\n",
            "Epoch 13/100\n",
            "6/6 [==============================] - 26s 4s/step - loss: 0.7989 - accuracy: 0.6367 - val_loss: 1.1239 - val_accuracy: 0.5000\n",
            "Epoch 14/100\n",
            "6/6 [==============================] - 26s 5s/step - loss: 0.7919 - accuracy: 0.6233 - val_loss: 0.8138 - val_accuracy: 0.6933\n",
            "Epoch 15/100\n",
            "6/6 [==============================] - 26s 5s/step - loss: 0.7708 - accuracy: 0.6383 - val_loss: 0.9084 - val_accuracy: 0.5267\n",
            "Epoch 16/100\n",
            "6/6 [==============================] - 27s 5s/step - loss: 0.7214 - accuracy: 0.7050 - val_loss: 1.2436 - val_accuracy: 0.4600\n",
            "Epoch 17/100\n",
            "6/6 [==============================] - 26s 4s/step - loss: 0.6773 - accuracy: 0.6850 - val_loss: 1.3059 - val_accuracy: 0.5600\n",
            "Epoch 18/100\n",
            "6/6 [==============================] - 27s 5s/step - loss: 0.7466 - accuracy: 0.6900 - val_loss: 1.1164 - val_accuracy: 0.5200\n",
            "Epoch 19/100\n",
            "6/6 [==============================] - 25s 4s/step - loss: 0.7170 - accuracy: 0.6783 - val_loss: 0.8637 - val_accuracy: 0.6333\n",
            "Epoch 20/100\n",
            "6/6 [==============================] - 25s 4s/step - loss: 0.6349 - accuracy: 0.7033 - val_loss: 0.7772 - val_accuracy: 0.6800\n",
            "Epoch 21/100\n",
            "6/6 [==============================] - 25s 4s/step - loss: 0.5803 - accuracy: 0.7467 - val_loss: 0.8644 - val_accuracy: 0.6600\n",
            "Epoch 22/100\n",
            "6/6 [==============================] - 25s 4s/step - loss: 0.5573 - accuracy: 0.7583 - val_loss: 1.2602 - val_accuracy: 0.5800\n",
            "Epoch 23/100\n",
            "6/6 [==============================] - 25s 4s/step - loss: 0.6256 - accuracy: 0.7367 - val_loss: 1.4243 - val_accuracy: 0.5667\n",
            "Epoch 24/100\n",
            "6/6 [==============================] - 25s 4s/step - loss: 0.5397 - accuracy: 0.7833 - val_loss: 0.8459 - val_accuracy: 0.6600\n",
            "Epoch 25/100\n",
            "6/6 [==============================] - 25s 4s/step - loss: 0.5068 - accuracy: 0.7917 - val_loss: 0.7729 - val_accuracy: 0.7533\n",
            "Epoch 26/100\n",
            "6/6 [==============================] - 25s 4s/step - loss: 0.4321 - accuracy: 0.8350 - val_loss: 0.8623 - val_accuracy: 0.7133\n",
            "Epoch 27/100\n",
            "6/6 [==============================] - 25s 4s/step - loss: 0.4921 - accuracy: 0.8050 - val_loss: 0.8133 - val_accuracy: 0.7067\n",
            "Epoch 28/100\n",
            "6/6 [==============================] - 26s 5s/step - loss: 0.6596 - accuracy: 0.6967 - val_loss: 1.6292 - val_accuracy: 0.5067\n",
            "Epoch 29/100\n",
            "6/6 [==============================] - 25s 4s/step - loss: 0.6492 - accuracy: 0.7133 - val_loss: 1.1761 - val_accuracy: 0.5800\n",
            "Epoch 30/100\n",
            "6/6 [==============================] - 25s 4s/step - loss: 0.5005 - accuracy: 0.8033 - val_loss: 0.8746 - val_accuracy: 0.7000\n",
            "Epoch 31/100\n",
            "6/6 [==============================] - 25s 4s/step - loss: 0.4698 - accuracy: 0.8117 - val_loss: 1.1168 - val_accuracy: 0.6200\n",
            "Epoch 32/100\n",
            "6/6 [==============================] - 25s 4s/step - loss: 0.5071 - accuracy: 0.7700 - val_loss: 0.8889 - val_accuracy: 0.7200\n",
            "Epoch 33/100\n",
            "6/6 [==============================] - 25s 4s/step - loss: 0.4238 - accuracy: 0.8200 - val_loss: 1.0991 - val_accuracy: 0.6933\n",
            "Epoch 34/100\n",
            "6/6 [==============================] - 25s 4s/step - loss: 0.3692 - accuracy: 0.8433 - val_loss: 1.2548 - val_accuracy: 0.6800\n",
            "Epoch 35/100\n",
            "6/6 [==============================] - 25s 4s/step - loss: 0.3508 - accuracy: 0.8533 - val_loss: 1.2562 - val_accuracy: 0.6533\n",
            "Epoch 36/100\n",
            "6/6 [==============================] - 25s 4s/step - loss: 0.4048 - accuracy: 0.8317 - val_loss: 1.3541 - val_accuracy: 0.6533\n",
            "Epoch 37/100\n",
            "6/6 [==============================] - 25s 4s/step - loss: 0.3781 - accuracy: 0.8433 - val_loss: 1.0090 - val_accuracy: 0.7200\n",
            "Epoch 38/100\n",
            "6/6 [==============================] - 26s 5s/step - loss: 0.3581 - accuracy: 0.8433 - val_loss: 1.3299 - val_accuracy: 0.6867\n",
            "Epoch 39/100\n",
            "6/6 [==============================] - 25s 4s/step - loss: 0.3683 - accuracy: 0.8433 - val_loss: 1.1431 - val_accuracy: 0.7133\n",
            "Epoch 40/100\n",
            "6/6 [==============================] - 25s 4s/step - loss: 0.3259 - accuracy: 0.8600 - val_loss: 1.0420 - val_accuracy: 0.7467\n",
            "Epoch 41/100\n",
            "6/6 [==============================] - 25s 4s/step - loss: 0.3407 - accuracy: 0.8633 - val_loss: 0.8865 - val_accuracy: 0.7533\n",
            "Epoch 42/100\n",
            "6/6 [==============================] - 25s 4s/step - loss: 0.3139 - accuracy: 0.8600 - val_loss: 0.9359 - val_accuracy: 0.7467\n",
            "Epoch 43/100\n",
            "6/6 [==============================] - 25s 4s/step - loss: 0.3650 - accuracy: 0.8567 - val_loss: 1.1703 - val_accuracy: 0.7333\n",
            "Epoch 44/100\n",
            "6/6 [==============================] - 25s 4s/step - loss: 0.3422 - accuracy: 0.8683 - val_loss: 1.2528 - val_accuracy: 0.7333\n",
            "Epoch 45/100\n",
            "6/6 [==============================] - 25s 4s/step - loss: 0.2944 - accuracy: 0.8700 - val_loss: 1.0823 - val_accuracy: 0.7533\n",
            "Epoch 46/100\n",
            "6/6 [==============================] - 25s 4s/step - loss: 0.2963 - accuracy: 0.8800 - val_loss: 1.2038 - val_accuracy: 0.7200\n",
            "Epoch 47/100\n",
            "6/6 [==============================] - 26s 5s/step - loss: 0.3014 - accuracy: 0.8683 - val_loss: 1.2274 - val_accuracy: 0.7400\n",
            "Epoch 48/100\n",
            "6/6 [==============================] - 25s 4s/step - loss: 0.2706 - accuracy: 0.8967 - val_loss: 0.8733 - val_accuracy: 0.7733\n",
            "Epoch 49/100\n",
            "6/6 [==============================] - 25s 4s/step - loss: 0.2933 - accuracy: 0.8867 - val_loss: 0.9177 - val_accuracy: 0.7800\n",
            "Epoch 50/100\n",
            "6/6 [==============================] - 25s 4s/step - loss: 0.2885 - accuracy: 0.8783 - val_loss: 1.1737 - val_accuracy: 0.7200\n",
            "Epoch 51/100\n",
            "6/6 [==============================] - 25s 4s/step - loss: 0.3454 - accuracy: 0.8533 - val_loss: 1.3940 - val_accuracy: 0.7400\n",
            "Epoch 52/100\n",
            "6/6 [==============================] - 25s 4s/step - loss: 0.3378 - accuracy: 0.8450 - val_loss: 1.5564 - val_accuracy: 0.6867\n",
            "Epoch 53/100\n",
            "6/6 [==============================] - 25s 4s/step - loss: 0.3587 - accuracy: 0.8567 - val_loss: 1.4393 - val_accuracy: 0.6600\n",
            "Epoch 54/100\n",
            "6/6 [==============================] - 25s 4s/step - loss: 0.3129 - accuracy: 0.8683 - val_loss: 0.9967 - val_accuracy: 0.7600\n",
            "Epoch 55/100\n",
            "6/6 [==============================] - 25s 4s/step - loss: 0.2691 - accuracy: 0.8850 - val_loss: 1.0690 - val_accuracy: 0.7600\n",
            "Epoch 56/100\n",
            "6/6 [==============================] - 25s 4s/step - loss: 0.2717 - accuracy: 0.8900 - val_loss: 1.1481 - val_accuracy: 0.7333\n",
            "Epoch 57/100\n",
            "6/6 [==============================] - 26s 4s/step - loss: 0.2417 - accuracy: 0.8950 - val_loss: 0.9993 - val_accuracy: 0.7667\n",
            "Epoch 58/100\n",
            "6/6 [==============================] - 25s 4s/step - loss: 0.2318 - accuracy: 0.9150 - val_loss: 0.9151 - val_accuracy: 0.7800\n",
            "Epoch 59/100\n",
            "6/6 [==============================] - 25s 4s/step - loss: 0.2238 - accuracy: 0.9033 - val_loss: 1.2506 - val_accuracy: 0.7333\n",
            "Epoch 60/100\n",
            "6/6 [==============================] - 25s 4s/step - loss: 0.2376 - accuracy: 0.8850 - val_loss: 1.1607 - val_accuracy: 0.7067\n",
            "Epoch 61/100\n",
            "6/6 [==============================] - 25s 4s/step - loss: 0.2306 - accuracy: 0.9067 - val_loss: 0.9961 - val_accuracy: 0.7667\n",
            "Epoch 62/100\n",
            "6/6 [==============================] - 25s 4s/step - loss: 0.2020 - accuracy: 0.9217 - val_loss: 1.2555 - val_accuracy: 0.7467\n",
            "Epoch 63/100\n",
            "6/6 [==============================] - 25s 4s/step - loss: 0.2275 - accuracy: 0.8950 - val_loss: 1.2965 - val_accuracy: 0.7600\n",
            "Epoch 64/100\n",
            "6/6 [==============================] - 25s 4s/step - loss: 0.3726 - accuracy: 0.8350 - val_loss: 0.8763 - val_accuracy: 0.7933\n",
            "Epoch 65/100\n",
            "6/6 [==============================] - 25s 4s/step - loss: 0.3039 - accuracy: 0.8667 - val_loss: 0.8621 - val_accuracy: 0.7667\n",
            "Epoch 66/100\n",
            "6/6 [==============================] - 26s 4s/step - loss: 0.3348 - accuracy: 0.8550 - val_loss: 1.1681 - val_accuracy: 0.7200\n",
            "Epoch 67/100\n",
            "6/6 [==============================] - 25s 4s/step - loss: 0.2663 - accuracy: 0.8900 - val_loss: 1.5477 - val_accuracy: 0.5667\n",
            "Epoch 68/100\n",
            "6/6 [==============================] - 25s 4s/step - loss: 0.2831 - accuracy: 0.8767 - val_loss: 0.9095 - val_accuracy: 0.7667\n",
            "Epoch 69/100\n",
            "6/6 [==============================] - 25s 4s/step - loss: 0.2301 - accuracy: 0.9117 - val_loss: 0.9319 - val_accuracy: 0.7533\n",
            "Epoch 70/100\n",
            "6/6 [==============================] - 25s 4s/step - loss: 0.2034 - accuracy: 0.9233 - val_loss: 1.4448 - val_accuracy: 0.6933\n",
            "Epoch 71/100\n",
            "6/6 [==============================] - 25s 4s/step - loss: 0.1926 - accuracy: 0.9217 - val_loss: 1.4092 - val_accuracy: 0.7333\n",
            "Epoch 72/100\n",
            "6/6 [==============================] - 24s 4s/step - loss: 0.2263 - accuracy: 0.9033 - val_loss: 0.9609 - val_accuracy: 0.7933\n",
            "Epoch 73/100\n",
            "6/6 [==============================] - 25s 4s/step - loss: 0.1822 - accuracy: 0.9233 - val_loss: 1.3478 - val_accuracy: 0.7467\n",
            "Epoch 74/100\n",
            "6/6 [==============================] - 25s 4s/step - loss: 0.2136 - accuracy: 0.9067 - val_loss: 1.2661 - val_accuracy: 0.7333\n",
            "Epoch 75/100\n",
            "6/6 [==============================] - 26s 5s/step - loss: 0.1854 - accuracy: 0.9333 - val_loss: 1.3315 - val_accuracy: 0.7600\n",
            "Epoch 76/100\n",
            "6/6 [==============================] - 25s 4s/step - loss: 0.1618 - accuracy: 0.9350 - val_loss: 1.3432 - val_accuracy: 0.7533\n",
            "Epoch 77/100\n",
            "6/6 [==============================] - 24s 4s/step - loss: 0.2157 - accuracy: 0.9033 - val_loss: 2.0840 - val_accuracy: 0.7200\n",
            "Epoch 78/100\n",
            "6/6 [==============================] - 25s 4s/step - loss: 0.1942 - accuracy: 0.9150 - val_loss: 2.0500 - val_accuracy: 0.6867\n",
            "Epoch 79/100\n",
            "6/6 [==============================] - 25s 4s/step - loss: 0.2053 - accuracy: 0.9233 - val_loss: 0.8223 - val_accuracy: 0.8000\n",
            "Epoch 80/100\n",
            "6/6 [==============================] - 25s 4s/step - loss: 0.1643 - accuracy: 0.9283 - val_loss: 1.0902 - val_accuracy: 0.7667\n",
            "Epoch 81/100\n",
            "6/6 [==============================] - 25s 4s/step - loss: 0.1415 - accuracy: 0.9433 - val_loss: 1.6095 - val_accuracy: 0.7600\n",
            "Epoch 82/100\n",
            "6/6 [==============================] - 25s 4s/step - loss: 0.1704 - accuracy: 0.9317 - val_loss: 1.3393 - val_accuracy: 0.7600\n",
            "Epoch 83/100\n",
            "6/6 [==============================] - 25s 4s/step - loss: 0.1904 - accuracy: 0.9150 - val_loss: 1.7658 - val_accuracy: 0.7267\n",
            "Epoch 84/100\n",
            "6/6 [==============================] - 25s 4s/step - loss: 0.2237 - accuracy: 0.9083 - val_loss: 0.9198 - val_accuracy: 0.7467\n",
            "Epoch 85/100\n",
            "6/6 [==============================] - 26s 4s/step - loss: 0.2119 - accuracy: 0.9167 - val_loss: 0.7408 - val_accuracy: 0.8067\n",
            "Epoch 86/100\n",
            "6/6 [==============================] - 25s 4s/step - loss: 0.2126 - accuracy: 0.9133 - val_loss: 1.8264 - val_accuracy: 0.7533\n",
            "Epoch 87/100\n",
            "6/6 [==============================] - 25s 4s/step - loss: 0.1912 - accuracy: 0.9283 - val_loss: 2.1239 - val_accuracy: 0.7200\n",
            "Epoch 88/100\n",
            "6/6 [==============================] - 25s 4s/step - loss: 0.2047 - accuracy: 0.9117 - val_loss: 1.0365 - val_accuracy: 0.7933\n",
            "Epoch 89/100\n",
            "6/6 [==============================] - 25s 4s/step - loss: 0.1910 - accuracy: 0.9250 - val_loss: 1.2123 - val_accuracy: 0.7600\n",
            "Epoch 90/100\n",
            "6/6 [==============================] - 25s 4s/step - loss: 0.1847 - accuracy: 0.9150 - val_loss: 1.5487 - val_accuracy: 0.7400\n",
            "Epoch 91/100\n",
            "6/6 [==============================] - 24s 4s/step - loss: 0.1509 - accuracy: 0.9383 - val_loss: 0.9874 - val_accuracy: 0.7800\n",
            "Epoch 92/100\n",
            "6/6 [==============================] - 24s 4s/step - loss: 0.1483 - accuracy: 0.9400 - val_loss: 1.2522 - val_accuracy: 0.7667\n",
            "Epoch 93/100\n",
            "6/6 [==============================] - 25s 4s/step - loss: 0.1404 - accuracy: 0.9417 - val_loss: 1.5400 - val_accuracy: 0.7533\n",
            "Epoch 94/100\n",
            "6/6 [==============================] - 25s 4s/step - loss: 0.1787 - accuracy: 0.9200 - val_loss: 1.4138 - val_accuracy: 0.7733\n",
            "Epoch 95/100\n",
            "6/6 [==============================] - 26s 5s/step - loss: 0.1808 - accuracy: 0.9200 - val_loss: 1.2626 - val_accuracy: 0.7467\n",
            "Epoch 96/100\n",
            "6/6 [==============================] - 25s 4s/step - loss: 0.2041 - accuracy: 0.9100 - val_loss: 1.6127 - val_accuracy: 0.7333\n",
            "Epoch 97/100\n",
            "6/6 [==============================] - 25s 4s/step - loss: 0.2299 - accuracy: 0.9150 - val_loss: 0.9906 - val_accuracy: 0.7200\n",
            "Epoch 98/100\n",
            "6/6 [==============================] - 25s 4s/step - loss: 0.1648 - accuracy: 0.9283 - val_loss: 1.1750 - val_accuracy: 0.7867\n",
            "Epoch 99/100\n",
            "6/6 [==============================] - 25s 4s/step - loss: 0.1542 - accuracy: 0.9400 - val_loss: 1.2489 - val_accuracy: 0.7733\n",
            "Epoch 100/100\n",
            "6/6 [==============================] - 25s 4s/step - loss: 0.1363 - accuracy: 0.9433 - val_loss: 1.6181 - val_accuracy: 0.7333\n"
          ]
        }
      ]
    },
    {
      "cell_type": "code",
      "source": [
        "#Graficas de precisión\n",
        "acc = historial.history['accuracy']\n",
        "val_acc = historial.history['val_accuracy']\n",
        "\n",
        "loss = historial.history['loss']\n",
        "val_loss = historial.history['val_loss']\n",
        "\n",
        "rango_epocas = range(epocas)\n",
        "\n",
        "plt.figure(figsize=(8,8))\n",
        "plt.subplot(1,2,1)\n",
        "plt.plot(rango_epocas, acc, label='Precisión Entrenamiento')\n",
        "plt.plot(rango_epocas, val_acc, label='Precisión Pruebas')\n",
        "plt.legend(loc='lower right')\n",
        "plt.title('Precisión de entrenamiento y pruebas')\n",
        "\n",
        "plt.subplot(1,2,2)\n",
        "plt.plot(rango_epocas, loss, label='Pérdida de entrenamiento')\n",
        "plt.plot(rango_epocas, val_loss, label='Pérdida de pruebas')\n",
        "plt.legend(loc='upper right')\n",
        "plt.title('Pérdida de entrenamiento y pruebas')\n",
        "plt.show()"
      ],
      "metadata": {
        "id": "_oauH0aRjW73",
        "outputId": "23c7a04a-64e5-49fe-ec8e-e64056e6760f",
        "colab": {
          "base_uri": "https://localhost:8080/",
          "height": 499
        }
      },
      "execution_count": 29,
      "outputs": [
        {
          "output_type": "display_data",
          "data": {
            "text/plain": [
              "<Figure size 576x576 with 2 Axes>"
            ],
            "image/png": "[encoded data removed]"
          },
          "metadata": {
            "needs_background": "light"
          }
        }
      ]
    },
    {
      "cell_type": "code",
      "source": [
        "#Exportar el modelo en formato h5\n",
        "modelo.save('granadilla.h5')\n",
        "!ls\n",
        "!pip install tensorflowjs\n",
        "!mkdir carpeta_salida\n",
        "!tensorflowjs_converter --input_format keras granadilla.h5 carpeta_salida\n",
        "!ls carpeta_salida"
      ],
      "metadata": {
        "colab": {
          "base_uri": "https://localhost:8080/",
          "height": 1000
        },
        "id": "hmibQlQA1ZF6",
        "outputId": "0ea6b2bc-4c33-457f-ff21-03a6c5514875"
      },
      "execution_count": 30,
      "outputs": [
        {
          "output_type": "stream",
          "name": "stdout",
          "text": [
            "drive  granadilla.h5  sample_data\n",
            "Looking in indexes: https://pypi.org/simple, https://us-python.pkg.dev/colab-wheels/public/simple/\n",
            "Collecting tensorflowjs\n",
            "  Downloading tensorflowjs-4.0.0-py3-none-any.whl (83 kB)\n",
            "\u001b[K     |████████████████████████████████| 83 kB 2.0 MB/s \n",
            "\u001b[?25hRequirement already satisfied: protobuf<3.20,>=3.9.2 in /usr/local/lib/python3.7/dist-packages (from tensorflowjs) (3.19.6)\n",
            "Requirement already satisfied: jax>=0.3.16 in /usr/local/lib/python3.7/dist-packages (from tensorflowjs) (0.3.23)\n",
            "Collecting tensorflow-decision-forests>=1.0.1\n",
            "  Downloading tensorflow_decision_forests-1.0.1-cp37-cp37m-manylinux_2_17_x86_64.manylinux2014_x86_64.whl (16.0 MB)\n",
            "\u001b[K     |████████████████████████████████| 16.0 MB 9.7 MB/s \n",
            "\u001b[?25hCollecting packaging~=20.9\n",
            "  Downloading packaging-20.9-py2.py3-none-any.whl (40 kB)\n",
            "\u001b[K     |████████████████████████████████| 40 kB 7.0 MB/s \n",
            "\u001b[?25hRequirement already satisfied: six<2,>=1.12.0 in /usr/local/lib/python3.7/dist-packages (from tensorflowjs) (1.15.0)\n",
            "Collecting tensorflow<3,>=2.10.0\n",
            "  Downloading tensorflow-2.10.0-cp37-cp37m-manylinux_2_17_x86_64.manylinux2014_x86_64.whl (578.0 MB)\n",
            "\u001b[K     |████████████████████████████████| 578.0 MB 18 kB/s \n",
            "\u001b[?25hRequirement already satisfied: tensorflow-hub<0.13,>=0.7.0 in /usr/local/lib/python3.7/dist-packages (from tensorflowjs) (0.12.0)\n",
            "Requirement already satisfied: importlib_resources>=5.9.0 in /usr/local/lib/python3.7/dist-packages (from tensorflowjs) (5.10.0)\n",
            "Collecting flax>=0.5.3\n",
            "  Downloading flax-0.6.1-py3-none-any.whl (185 kB)\n",
            "\u001b[K     |████████████████████████████████| 185 kB 71.7 MB/s \n",
            "\u001b[?25hRequirement already satisfied: matplotlib in /usr/local/lib/python3.7/dist-packages (from flax>=0.5.3->tensorflowjs) (3.2.2)\n",
            "Collecting rich>=11.1\n",
            "  Downloading rich-12.6.0-py3-none-any.whl (237 kB)\n",
            "\u001b[K     |████████████████████████████████| 237 kB 70.8 MB/s \n",
            "\u001b[?25hCollecting optax\n",
            "  Downloading optax-0.1.3-py3-none-any.whl (145 kB)\n",
            "\u001b[K     |████████████████████████████████| 145 kB 75.5 MB/s \n",
            "\u001b[?25hRequirement already satisfied: PyYAML>=5.4.1 in /usr/local/lib/python3.7/dist-packages (from flax>=0.5.3->tensorflowjs) (6.0)\n",
            "Requirement already satisfied: typing-extensions>=4.1.1 in /usr/local/lib/python3.7/dist-packages (from flax>=0.5.3->tensorflowjs) (4.1.1)\n",
            "Requirement already satisfied: numpy>=1.12 in /usr/local/lib/python3.7/dist-packages (from flax>=0.5.3->tensorflowjs) (1.21.6)\n",
            "Requirement already satisfied: msgpack in /usr/local/lib/python3.7/dist-packages (from flax>=0.5.3->tensorflowjs) (1.0.4)\n",
            "Requirement already satisfied: zipp>=3.1.0 in /usr/local/lib/python3.7/dist-packages (from importlib_resources>=5.9.0->tensorflowjs) (3.10.0)\n",
            "Requirement already satisfied: scipy>=1.5 in /usr/local/lib/python3.7/dist-packages (from jax>=0.3.16->tensorflowjs) (1.7.3)\n",
            "Requirement already satisfied: absl-py in /usr/local/lib/python3.7/dist-packages (from jax>=0.3.16->tensorflowjs) (1.3.0)\n",
            "Requirement already satisfied: etils[epath] in /usr/local/lib/python3.7/dist-packages (from jax>=0.3.16->tensorflowjs) (0.9.0)\n",
            "Requirement already satisfied: opt-einsum in /usr/local/lib/python3.7/dist-packages (from jax>=0.3.16->tensorflowjs) (3.3.0)\n",
            "Requirement already satisfied: pyparsing>=2.0.2 in /usr/local/lib/python3.7/dist-packages (from packaging~=20.9->tensorflowjs) (3.0.9)\n",
            "Collecting commonmark<0.10.0,>=0.9.0\n",
            "  Downloading commonmark-0.9.1-py2.py3-none-any.whl (51 kB)\n",
            "\u001b[K     |████████████████████████████████| 51 kB 8.7 MB/s \n",
            "\u001b[?25hRequirement already satisfied: pygments<3.0.0,>=2.6.0 in /usr/local/lib/python3.7/dist-packages (from rich>=11.1->flax>=0.5.3->tensorflowjs) (2.6.1)\n",
            "Collecting keras<2.11,>=2.10.0\n",
            "  Downloading keras-2.10.0-py2.py3-none-any.whl (1.7 MB)\n",
            "\u001b[K     |████████████████████████████████| 1.7 MB 50.4 MB/s \n",
            "\u001b[?25hCollecting tensorboard<2.11,>=2.10\n",
            "  Downloading tensorboard-2.10.1-py3-none-any.whl (5.9 MB)\n",
            "\u001b[K     |████████████████████████████████| 5.9 MB 33.4 MB/s \n",
            "\u001b[?25hRequirement already satisfied: termcolor>=1.1.0 in /usr/local/lib/python3.7/dist-packages (from tensorflow<3,>=2.10.0->tensorflowjs) (2.1.0)\n",
            "Requirement already satisfied: keras-preprocessing>=1.1.1 in /usr/local/lib/python3.7/dist-packages (from tensorflow<3,>=2.10.0->tensorflowjs) (1.1.2)\n",
            "Requirement already satisfied: google-pasta>=0.1.1 in /usr/local/lib/python3.7/dist-packages (from tensorflow<3,>=2.10.0->tensorflowjs) (0.2.0)\n",
            "Requirement already satisfied: wrapt>=1.11.0 in /usr/local/lib/python3.7/dist-packages (from tensorflow<3,>=2.10.0->tensorflowjs) (1.14.1)\n",
            "Collecting flatbuffers>=2.0\n",
            "  Downloading flatbuffers-22.10.26-py2.py3-none-any.whl (26 kB)\n",
            "Requirement already satisfied: tensorflow-io-gcs-filesystem>=0.23.1 in /usr/local/lib/python3.7/dist-packages (from tensorflow<3,>=2.10.0->tensorflowjs) (0.27.0)\n",
            "Requirement already satisfied: libclang>=13.0.0 in /usr/local/lib/python3.7/dist-packages (from tensorflow<3,>=2.10.0->tensorflowjs) (14.0.6)\n",
            "Collecting tensorflow-estimator<2.11,>=2.10.0\n",
            "  Downloading tensorflow_estimator-2.10.0-py2.py3-none-any.whl (438 kB)\n",
            "\u001b[K     |████████████████████████████████| 438 kB 73.2 MB/s \n",
            "\u001b[?25hRequirement already satisfied: gast<=0.4.0,>=0.2.1 in /usr/local/lib/python3.7/dist-packages (from tensorflow<3,>=2.10.0->tensorflowjs) (0.4.0)\n",
            "Requirement already satisfied: setuptools in /usr/local/lib/python3.7/dist-packages (from tensorflow<3,>=2.10.0->tensorflowjs) (57.4.0)\n",
            "Requirement already satisfied: h5py>=2.9.0 in /usr/local/lib/python3.7/dist-packages (from tensorflow<3,>=2.10.0->tensorflowjs) (3.1.0)\n",
            "Requirement already satisfied: grpcio<2.0,>=1.24.3 in /usr/local/lib/python3.7/dist-packages (from tensorflow<3,>=2.10.0->tensorflowjs) (1.50.0)\n",
            "Requirement already satisfied: astunparse>=1.6.0 in /usr/local/lib/python3.7/dist-packages (from tensorflow<3,>=2.10.0->tensorflowjs) (1.6.3)\n",
            "Requirement already satisfied: wheel<1.0,>=0.23.0 in /usr/local/lib/python3.7/dist-packages (from astunparse>=1.6.0->tensorflow<3,>=2.10.0->tensorflowjs) (0.38.3)\n",
            "Requirement already satisfied: cached-property in /usr/local/lib/python3.7/dist-packages (from h5py>=2.9.0->tensorflow<3,>=2.10.0->tensorflowjs) (1.5.2)\n",
            "Requirement already satisfied: google-auth-oauthlib<0.5,>=0.4.1 in /usr/local/lib/python3.7/dist-packages (from tensorboard<2.11,>=2.10->tensorflow<3,>=2.10.0->tensorflowjs) (0.4.6)\n",
            "Requirement already satisfied: requests<3,>=2.21.0 in /usr/local/lib/python3.7/dist-packages (from tensorboard<2.11,>=2.10->tensorflow<3,>=2.10.0->tensorflowjs) (2.23.0)\n",
            "Requirement already satisfied: markdown>=2.6.8 in /usr/local/lib/python3.7/dist-packages (from tensorboard<2.11,>=2.10->tensorflow<3,>=2.10.0->tensorflowjs) (3.4.1)\n",
            "Requirement already satisfied: google-auth<3,>=1.6.3 in /usr/local/lib/python3.7/dist-packages (from tensorboard<2.11,>=2.10->tensorflow<3,>=2.10.0->tensorflowjs) (2.14.1)\n",
            "Requirement already satisfied: tensorboard-plugin-wit>=1.6.0 in /usr/local/lib/python3.7/dist-packages (from tensorboard<2.11,>=2.10->tensorflow<3,>=2.10.0->tensorflowjs) (1.8.1)\n",
            "Requirement already satisfied: werkzeug>=1.0.1 in /usr/local/lib/python3.7/dist-packages (from tensorboard<2.11,>=2.10->tensorflow<3,>=2.10.0->tensorflowjs) (1.0.1)\n",
            "Requirement already satisfied: tensorboard-data-server<0.7.0,>=0.6.0 in /usr/local/lib/python3.7/dist-packages (from tensorboard<2.11,>=2.10->tensorflow<3,>=2.10.0->tensorflowjs) (0.6.1)\n",
            "Requirement already satisfied: rsa<5,>=3.1.4 in /usr/local/lib/python3.7/dist-packages (from google-auth<3,>=1.6.3->tensorboard<2.11,>=2.10->tensorflow<3,>=2.10.0->tensorflowjs) (4.9)\n",
            "Requirement already satisfied: pyasn1-modules>=0.2.1 in /usr/local/lib/python3.7/dist-packages (from google-auth<3,>=1.6.3->tensorboard<2.11,>=2.10->tensorflow<3,>=2.10.0->tensorflowjs) (0.2.8)\n",
            "Requirement already satisfied: cachetools<6.0,>=2.0.0 in /usr/local/lib/python3.7/dist-packages (from google-auth<3,>=1.6.3->tensorboard<2.11,>=2.10->tensorflow<3,>=2.10.0->tensorflowjs) (5.2.0)\n",
            "Requirement already satisfied: requests-oauthlib>=0.7.0 in /usr/local/lib/python3.7/dist-packages (from google-auth-oauthlib<0.5,>=0.4.1->tensorboard<2.11,>=2.10->tensorflow<3,>=2.10.0->tensorflowjs) (1.3.1)\n",
            "Requirement already satisfied: importlib-metadata>=4.4 in /usr/local/lib/python3.7/dist-packages (from markdown>=2.6.8->tensorboard<2.11,>=2.10->tensorflow<3,>=2.10.0->tensorflowjs) (4.13.0)\n",
            "Requirement already satisfied: pyasn1<0.5.0,>=0.4.6 in /usr/local/lib/python3.7/dist-packages (from pyasn1-modules>=0.2.1->google-auth<3,>=1.6.3->tensorboard<2.11,>=2.10->tensorflow<3,>=2.10.0->tensorflowjs) (0.4.8)\n",
            "Requirement already satisfied: certifi>=2017.4.17 in /usr/local/lib/python3.7/dist-packages (from requests<3,>=2.21.0->tensorboard<2.11,>=2.10->tensorflow<3,>=2.10.0->tensorflowjs) (2022.9.24)\n",
            "Requirement already satisfied: urllib3!=1.25.0,!=1.25.1,<1.26,>=1.21.1 in /usr/local/lib/python3.7/dist-packages (from requests<3,>=2.21.0->tensorboard<2.11,>=2.10->tensorflow<3,>=2.10.0->tensorflowjs) (1.24.3)\n",
            "Requirement already satisfied: idna<3,>=2.5 in /usr/local/lib/python3.7/dist-packages (from requests<3,>=2.21.0->tensorboard<2.11,>=2.10->tensorflow<3,>=2.10.0->tensorflowjs) (2.10)\n",
            "Requirement already satisfied: chardet<4,>=3.0.2 in /usr/local/lib/python3.7/dist-packages (from requests<3,>=2.21.0->tensorboard<2.11,>=2.10->tensorflow<3,>=2.10.0->tensorflowjs) (3.0.4)\n",
            "Requirement already satisfied: oauthlib>=3.0.0 in /usr/local/lib/python3.7/dist-packages (from requests-oauthlib>=0.7.0->google-auth-oauthlib<0.5,>=0.4.1->tensorboard<2.11,>=2.10->tensorflow<3,>=2.10.0->tensorflowjs) (3.2.2)\n",
            "Requirement already satisfied: pandas in /usr/local/lib/python3.7/dist-packages (from tensorflow-decision-forests>=1.0.1->tensorflowjs) (1.3.5)\n",
            "Collecting wurlitzer\n",
            "  Downloading wurlitzer-3.0.2-py3-none-any.whl (7.3 kB)\n",
            "Requirement already satisfied: cycler>=0.10 in /usr/local/lib/python3.7/dist-packages (from matplotlib->flax>=0.5.3->tensorflowjs) (0.11.0)\n",
            "Requirement already satisfied: python-dateutil>=2.1 in /usr/local/lib/python3.7/dist-packages (from matplotlib->flax>=0.5.3->tensorflowjs) (2.8.2)\n",
            "Requirement already satisfied: kiwisolver>=1.0.1 in /usr/local/lib/python3.7/dist-packages (from matplotlib->flax>=0.5.3->tensorflowjs) (1.4.4)\n",
            "Requirement already satisfied: jaxlib>=0.1.37 in /usr/local/lib/python3.7/dist-packages (from optax->flax>=0.5.3->tensorflowjs) (0.3.22+cuda11.cudnn805)\n",
            "Collecting chex>=0.0.4\n",
            "  Downloading chex-0.1.5-py3-none-any.whl (85 kB)\n",
            "\u001b[K     |████████████████████████████████| 85 kB 5.1 MB/s \n",
            "\u001b[?25hRequirement already satisfied: dm-tree>=0.1.5 in /usr/local/lib/python3.7/dist-packages (from chex>=0.0.4->optax->flax>=0.5.3->tensorflowjs) (0.1.7)\n",
            "Requirement already satisfied: toolz>=0.9.0 in /usr/local/lib/python3.7/dist-packages (from chex>=0.0.4->optax->flax>=0.5.3->tensorflowjs) (0.12.0)\n",
            "Requirement already satisfied: pytz>=2017.3 in /usr/local/lib/python3.7/dist-packages (from pandas->tensorflow-decision-forests>=1.0.1->tensorflowjs) (2022.6)\n",
            "Installing collected packages: tensorflow-estimator, tensorboard, packaging, keras, flatbuffers, commonmark, chex, wurlitzer, tensorflow, rich, optax, tensorflow-decision-forests, flax, tensorflowjs\n",
            "  Attempting uninstall: tensorflow-estimator\n",
            "    Found existing installation: tensorflow-estimator 2.9.0\n",
            "    Uninstalling tensorflow-estimator-2.9.0:\n",
            "      Successfully uninstalled tensorflow-estimator-2.9.0\n",
            "  Attempting uninstall: tensorboard\n",
            "    Found existing installation: tensorboard 2.9.1\n",
            "    Uninstalling tensorboard-2.9.1:\n",
            "      Successfully uninstalled tensorboard-2.9.1\n",
            "  Attempting uninstall: packaging\n",
            "    Found existing installation: packaging 21.3\n",
            "    Uninstalling packaging-21.3:\n",
            "      Successfully uninstalled packaging-21.3\n",
            "  Attempting uninstall: keras\n",
            "    Found existing installation: keras 2.9.0\n",
            "    Uninstalling keras-2.9.0:\n",
            "      Successfully uninstalled keras-2.9.0\n",
            "  Attempting uninstall: flatbuffers\n",
            "    Found existing installation: flatbuffers 1.12\n",
            "    Uninstalling flatbuffers-1.12:\n",
            "      Successfully uninstalled flatbuffers-1.12\n",
            "  Attempting uninstall: tensorflow\n",
            "    Found existing installation: tensorflow 2.9.2\n",
            "    Uninstalling tensorflow-2.9.2:\n",
            "      Successfully uninstalled tensorflow-2.9.2\n",
            "Successfully installed chex-0.1.5 commonmark-0.9.1 flatbuffers-22.10.26 flax-0.6.1 keras-2.10.0 optax-0.1.3 packaging-20.9 rich-12.6.0 tensorboard-2.10.1 tensorflow-2.10.0 tensorflow-decision-forests-1.0.1 tensorflow-estimator-2.10.0 tensorflowjs-4.0.0 wurlitzer-3.0.2\n"
          ]
        },
        {
          "output_type": "display_data",
          "data": {
            "application/vnd.colab-display-data+json": {
              "pip_warning": {
                "packages": [
                  "flatbuffers",
                  "keras",
                  "packaging",
                  "tensorboard",
                  "tensorflow"
                ]
              }
            }
          },
          "metadata": {}
        },
        {
          "output_type": "stream",
          "name": "stdout",
          "text": [
            "2022-11-11 18:09:53.309346: E tensorflow/stream_executor/cuda/cuda_blas.cc:2981] Unable to register cuBLAS factory: Attempting to register factory for plugin cuBLAS when one has already been registered\n",
            "2022-11-11 18:09:54.007935: W tensorflow/stream_executor/platform/default/dso_loader.cc:64] Could not load dynamic library 'libnvinfer.so.7'; dlerror: libnvinfer.so.7: cannot open shared object file: No such file or directory; LD_LIBRARY_PATH: /usr/lib64-nvidia\n",
            "2022-11-11 18:09:54.008130: W tensorflow/stream_executor/platform/default/dso_loader.cc:64] Could not load dynamic library 'libnvinfer_plugin.so.7'; dlerror: libnvinfer_plugin.so.7: cannot open shared object file: No such file or directory; LD_LIBRARY_PATH: /usr/lib64-nvidia\n",
            "2022-11-11 18:09:54.008151: W tensorflow/compiler/tf2tensorrt/utils/py_utils.cc:38] TF-TRT Warning: Cannot dlopen some TensorRT libraries. If you would like to use Nvidia GPU with TensorRT, please make sure the missing libraries mentioned above are installed properly.\n",
            "group1-shard1of4.bin  group1-shard3of4.bin  model.json\n",
            "group1-shard2of4.bin  group1-shard4of4.bin\n"
          ]
        }
      ]
    },
    {
      "cell_type": "code",
      "source": [],
      "metadata": {
        "id": "VCVkvZrB2vRY"
      },
      "execution_count": null,
      "outputs": []
    }
  ]
}